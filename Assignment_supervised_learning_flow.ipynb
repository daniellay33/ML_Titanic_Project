{
 "cells": [
  {
   "cell_type": "markdown",
   "id": "ec202ada",
   "metadata": {},
   "source": [
    "# Assignment - Supervised Learning flow"
   ]
  },
  {
   "cell_type": "markdown",
   "id": "b06a2810",
   "metadata": {},
   "source": [
    "# Part 1(a) Student details:\n",
    "* Please write the First-Name, First letter of Last-Name and last 4 digits of the i.d. for each student. "
   ]
  },
  {
   "cell_type": "code",
   "execution_count": 410,
   "id": "ca16486b",
   "metadata": {},
   "outputs": [],
   "source": [
    "# Daniela Y. 3752"
   ]
  },
  {
   "cell_type": "markdown",
   "id": "abb64166-b32e-4b86-a7ee-84106c8b3a92",
   "metadata": {},
   "source": [
    "## Part 1(b) - Chat-GPT/other AI-agent/other assistance used:\n",
    "* If you changed the prompt until you got a satisfying answer, please add all versions\n",
    "* don't delete \"pre\" tags, so new-line is supported\n",
    "* double click the following markdown cell to change\n",
    "* press shift+enter to view\n",
    "* Add information:"
   ]
  },
  {
   "cell_type": "markdown",
   "id": "ea93f0d3-7aa1-4a95-b084-395f5f7c6c0c",
   "metadata": {},
   "source": [
    "#### Add information in this Markdown cell (double click to change, shift-enter to view)\n",
    "<pre>   \n",
    "AI agent name: ChatGPT\n",
    "Goal: Get quick Python guidance and understand ML ideas.\n",
    "Propmpt1:Asked for short explanations of model evaluation methods.\n",
    "Propmpt2:Show a short Python example of how to calculate F1 score.  \n",
    "Propmpt3: Understand machine learning workflow on the Titanic dataset and get short Python guidance.\n",
    "\n",
    "\n",
    "AI agent name 2:\n",
    "Goal:\n",
    "Propmpt1:\n",
    "    \n",
    "Propmpt2:\n",
    "    \n",
    "Propmpt3: \n",
    "\n",
    "Other assistanse:    \n",
    "</pre>"
   ]
  },
  {
   "cell_type": "markdown",
   "id": "0e4fbaab-e5a5-40ed-be0f-9a2cb7931a4b",
   "metadata": {},
   "source": [
    "## Part 1(c) - Learning Problem and dataset explaination.\n",
    "* Please explain in one paragraph\n",
    "* don't delete \"pre\" tags, so new-line is supported\n",
    "* double click the following markdown cell to change\n",
    "* press shift+enter to view\n",
    "* Add explaining text:"
   ]
  },
  {
   "cell_type": "markdown",
   "id": "dd8565df-2778-4b89-83bd-6b227063789f",
   "metadata": {},
   "source": [
    "#### Add information in this Markdown cell (double click to change, shift-enter to view)\n",
    "<pre>\n",
    "\n",
    "This project is based on the Titanic passenger dataset, where each record describes individual passenger attributes such as age, gender, travel class, family relations, ticket fare, and port of embarkation. The task is formulated as a binary classification problem, aiming to predict whether a passenger survived (1) or not (0). The objective is to build a predictive model that captures patterns and relationships between passenger characteristics and survival outcomes.\n",
    "\n",
    "\n",
    "    \n",
    "</pre>"
   ]
  },
  {
   "cell_type": "markdown",
   "id": "df67c2ee-87c8-499c-a04f-1853c332f51d",
   "metadata": {},
   "source": [
    "## Part 2 - Initial Preparations \n",
    "You could add as many code cells as needed"
   ]
  },
  {
   "cell_type": "code",
   "execution_count": 411,
   "id": "b29b3454-b568-4614-8017-f15b3c59fc55",
   "metadata": {},
   "outputs": [],
   "source": [
    "# Import necessary libraries\n",
    "import pandas as pd\n",
    "import seaborn as sns\n",
    "import matplotlib.pyplot as plt\n",
    "\n",
    "from sklearn.model_selection import GridSearchCV, KFold\n",
    "from sklearn.preprocessing import StandardScaler\n",
    "from sklearn.linear_model import LogisticRegression\n",
    "from sklearn.pipeline import Pipeline\n",
    "from sklearn.metrics import make_scorer, f1_score\n",
    "from sklearn.neighbors import KNeighborsClassifier\n",
    "from sklearn.model_selection import cross_val_score\n",
    "from sklearn.preprocessing import MinMaxScaler\n",
    "from sklearn.metrics import accuracy_score, f1_score, classification_report\n",
    "from sklearn.metrics import confusion_matrix\n",
    "\n",
    "\n",
    "\n",
    "# Load the Titanic dataset (adjust the path to your CSV if needed)\n",
    "df_train = pd.read_csv(r\"E:\\titanic_train.csv\")\n",
    "df_test = pd.read_csv(r\"E:\\titanic_test.csv\")\n"
   ]
  },
  {
   "cell_type": "code",
   "execution_count": 412,
   "id": "4b47fe56-d611-4b28-be92-673db4d56400",
   "metadata": {},
   "outputs": [
    {
     "data": {
      "text/html": [
       "<div>\n",
       "<style scoped>\n",
       "    .dataframe tbody tr th:only-of-type {\n",
       "        vertical-align: middle;\n",
       "    }\n",
       "\n",
       "    .dataframe tbody tr th {\n",
       "        vertical-align: top;\n",
       "    }\n",
       "\n",
       "    .dataframe thead th {\n",
       "        text-align: right;\n",
       "    }\n",
       "</style>\n",
       "<table border=\"1\" class=\"dataframe\">\n",
       "  <thead>\n",
       "    <tr style=\"text-align: right;\">\n",
       "      <th></th>\n",
       "      <th>Pclass</th>\n",
       "      <th>Sex</th>\n",
       "      <th>Age</th>\n",
       "      <th>SibSp</th>\n",
       "      <th>Parch</th>\n",
       "      <th>Fare</th>\n",
       "      <th>Embarked</th>\n",
       "      <th>Survived</th>\n",
       "    </tr>\n",
       "  </thead>\n",
       "  <tbody>\n",
       "    <tr>\n",
       "      <th>0</th>\n",
       "      <td>1</td>\n",
       "      <td>0</td>\n",
       "      <td>54.0</td>\n",
       "      <td>1</td>\n",
       "      <td>0</td>\n",
       "      <td>78.2667</td>\n",
       "      <td>1</td>\n",
       "      <td>1</td>\n",
       "    </tr>\n",
       "    <tr>\n",
       "      <th>1</th>\n",
       "      <td>2</td>\n",
       "      <td>0</td>\n",
       "      <td>45.0</td>\n",
       "      <td>0</td>\n",
       "      <td>0</td>\n",
       "      <td>13.5000</td>\n",
       "      <td>0</td>\n",
       "      <td>1</td>\n",
       "    </tr>\n",
       "    <tr>\n",
       "      <th>2</th>\n",
       "      <td>3</td>\n",
       "      <td>1</td>\n",
       "      <td>20.0</td>\n",
       "      <td>0</td>\n",
       "      <td>0</td>\n",
       "      <td>9.5000</td>\n",
       "      <td>0</td>\n",
       "      <td>0</td>\n",
       "    </tr>\n",
       "    <tr>\n",
       "      <th>3</th>\n",
       "      <td>3</td>\n",
       "      <td>1</td>\n",
       "      <td>36.0</td>\n",
       "      <td>0</td>\n",
       "      <td>0</td>\n",
       "      <td>7.8958</td>\n",
       "      <td>0</td>\n",
       "      <td>0</td>\n",
       "    </tr>\n",
       "    <tr>\n",
       "      <th>4</th>\n",
       "      <td>3</td>\n",
       "      <td>1</td>\n",
       "      <td>22.0</td>\n",
       "      <td>0</td>\n",
       "      <td>0</td>\n",
       "      <td>8.0500</td>\n",
       "      <td>0</td>\n",
       "      <td>0</td>\n",
       "    </tr>\n",
       "  </tbody>\n",
       "</table>\n",
       "</div>"
      ],
      "text/plain": [
       "   Pclass  Sex   Age  SibSp  Parch     Fare  Embarked  Survived\n",
       "0       1    0  54.0      1      0  78.2667         1         1\n",
       "1       2    0  45.0      0      0  13.5000         0         1\n",
       "2       3    1  20.0      0      0   9.5000         0         0\n",
       "3       3    1  36.0      0      0   7.8958         0         0\n",
       "4       3    1  22.0      0      0   8.0500         0         0"
      ]
     },
     "execution_count": 412,
     "metadata": {},
     "output_type": "execute_result"
    }
   ],
   "source": [
    "# Display the first 5 rows of the test dataset\n",
    "df_train.head(5)"
   ]
  },
  {
   "cell_type": "code",
   "execution_count": 413,
   "id": "53e27610-b640-4db0-80c9-789b5f5fae58",
   "metadata": {},
   "outputs": [
    {
     "data": {
      "text/html": [
       "<div>\n",
       "<style scoped>\n",
       "    .dataframe tbody tr th:only-of-type {\n",
       "        vertical-align: middle;\n",
       "    }\n",
       "\n",
       "    .dataframe tbody tr th {\n",
       "        vertical-align: top;\n",
       "    }\n",
       "\n",
       "    .dataframe thead th {\n",
       "        text-align: right;\n",
       "    }\n",
       "</style>\n",
       "<table border=\"1\" class=\"dataframe\">\n",
       "  <thead>\n",
       "    <tr style=\"text-align: right;\">\n",
       "      <th></th>\n",
       "      <th>Pclass</th>\n",
       "      <th>Sex</th>\n",
       "      <th>Age</th>\n",
       "      <th>SibSp</th>\n",
       "      <th>Parch</th>\n",
       "      <th>Fare</th>\n",
       "      <th>Embarked</th>\n",
       "      <th>Survived</th>\n",
       "    </tr>\n",
       "  </thead>\n",
       "  <tbody>\n",
       "    <tr>\n",
       "      <th>0</th>\n",
       "      <td>3</td>\n",
       "      <td>1</td>\n",
       "      <td>35.000000</td>\n",
       "      <td>0</td>\n",
       "      <td>0</td>\n",
       "      <td>7.0500</td>\n",
       "      <td>0</td>\n",
       "      <td>0</td>\n",
       "    </tr>\n",
       "    <tr>\n",
       "      <th>1</th>\n",
       "      <td>3</td>\n",
       "      <td>1</td>\n",
       "      <td>30.000000</td>\n",
       "      <td>0</td>\n",
       "      <td>0</td>\n",
       "      <td>7.2500</td>\n",
       "      <td>0</td>\n",
       "      <td>0</td>\n",
       "    </tr>\n",
       "    <tr>\n",
       "      <th>2</th>\n",
       "      <td>3</td>\n",
       "      <td>1</td>\n",
       "      <td>29.699118</td>\n",
       "      <td>0</td>\n",
       "      <td>0</td>\n",
       "      <td>14.5000</td>\n",
       "      <td>0</td>\n",
       "      <td>0</td>\n",
       "    </tr>\n",
       "    <tr>\n",
       "      <th>3</th>\n",
       "      <td>3</td>\n",
       "      <td>0</td>\n",
       "      <td>21.000000</td>\n",
       "      <td>0</td>\n",
       "      <td>0</td>\n",
       "      <td>7.7500</td>\n",
       "      <td>2</td>\n",
       "      <td>0</td>\n",
       "    </tr>\n",
       "    <tr>\n",
       "      <th>4</th>\n",
       "      <td>3</td>\n",
       "      <td>1</td>\n",
       "      <td>32.000000</td>\n",
       "      <td>0</td>\n",
       "      <td>0</td>\n",
       "      <td>56.4958</td>\n",
       "      <td>0</td>\n",
       "      <td>1</td>\n",
       "    </tr>\n",
       "  </tbody>\n",
       "</table>\n",
       "</div>"
      ],
      "text/plain": [
       "   Pclass  Sex        Age  SibSp  Parch     Fare  Embarked  Survived\n",
       "0       3    1  35.000000      0      0   7.0500         0         0\n",
       "1       3    1  30.000000      0      0   7.2500         0         0\n",
       "2       3    1  29.699118      0      0  14.5000         0         0\n",
       "3       3    0  21.000000      0      0   7.7500         2         0\n",
       "4       3    1  32.000000      0      0  56.4958         0         1"
      ]
     },
     "execution_count": 413,
     "metadata": {},
     "output_type": "execute_result"
    }
   ],
   "source": [
    "df_test.head(5)"
   ]
  },
  {
   "cell_type": "code",
   "execution_count": 414,
   "id": "05ce42b3",
   "metadata": {},
   "outputs": [
    {
     "data": {
      "image/png": "[encoded data removed]",
      "text/plain": [
       "<Figure size 700x500 with 1 Axes>"
      ]
     },
     "metadata": {},
     "output_type": "display_data"
    }
   ],
   "source": [
    "# -------------------------------\n",
    "# 1. Gender vs. Survival (Barplot)\n",
    "# -------------------------------\n",
    "\n",
    "df_train[\"Sex\"] = df_train[\"Sex\"].fillna(df_train[\"Sex\"])\n",
    "df_train[\"Survived\"] = df_train[\"Survived\"].map({0: \"Not Survived\", 1: \"Survived\"})\n",
    "\n",
    "plt.figure(figsize=(7,5))\n",
    "ax = sns.countplot(\n",
    "    data=df_train,\n",
    "    x=\"Sex\",\n",
    "    hue=\"Survived\",\n",
    "    palette={\"Survived\": \"green\", \"Not Survived\": \"red\"}\n",
    ")\n",
    "\n",
    "plt.title(\"Titanic Survival by Gender\", fontsize=16, fontweight=\"bold\")\n",
    "plt.xlabel(\"Gender\", fontsize=14)\n",
    "plt.ylabel(\"Number of Passengers\", fontsize=14)\n",
    "plt.legend(title=\"Outcome\")\n",
    "\n",
    "for container in ax.containers:\n",
    "    ax.bar_label(container, fmt='%d', label_type='center', color=\"white\", fontsize=11, fontweight=\"bold\")\n",
    "\n",
    "plt.ylim(0, 400)\n",
    "plt.show()"
   ]
  },
  {
   "cell_type": "code",
   "execution_count": 415,
   "id": "c0d8a61f",
   "metadata": {
    "scrolled": false
   },
   "outputs": [
    {
     "data": {
      "image/png": "[encoded data removed]",
      "text/plain": [
       "<Figure size 600x400 with 1 Axes>"
      ]
     },
     "metadata": {},
     "output_type": "display_data"
    }
   ],
   "source": [
    "# -------------------------------\n",
    "# 2. Age Distribution vs. Survival (Boxplot)\n",
    "# -------------------------------\n",
    "plt.figure(figsize=(6,4))\n",
    "sns.boxplot(data=df_train, x=\"Survived\", y=\"Age\")\n",
    "plt.title(\"Age Distribution by Survival\")\n",
    "plt.xlabel(\"Survived (0 = No, 1 = Yes)\")\n",
    "plt.ylabel(\"Age\")\n",
    "plt.show()"
   ]
  },
  {
   "cell_type": "markdown",
   "id": "fb36672a",
   "metadata": {},
   "source": [
    "## Part 3 - Experiments\n",
    "You could add as many code cells as needed"
   ]
  },
  {
   "cell_type": "code",
   "execution_count": 416,
   "id": "b7098585",
   "metadata": {
    "scrolled": true
   },
   "outputs": [],
   "source": [
    "all_dummies = pd.get_dummies( df_train[['Pclass','Sex','Age','SibSp','Parch','Fare','Embarked']])"
   ]
  },
  {
   "cell_type": "code",
   "execution_count": 417,
   "id": "097afb02",
   "metadata": {},
   "outputs": [],
   "source": [
    "\n",
    "def clf_performance(classifier, model_name):\n",
    "    print(model_name)\n",
    "    print('Best Score (F1): ' + str(classifier.best_score_))\n",
    "    print('Best Parameters: ' + str(classifier.best_params_))\n"
   ]
  },
  {
   "cell_type": "code",
   "execution_count": 418,
   "id": "1fa9ec73",
   "metadata": {},
   "outputs": [],
   "source": [
    "\n",
    "from sklearn.preprocessing import MinMaxScaler\n",
    "scale = MinMaxScaler()\n",
    "train_dummies_scaled = all_dummies.copy()\n",
    "train_dummies_scaled[['Age','SibSp','Parch','Fare']] = scale.fit_transform(train_dummies_scaled[['Age','SibSp','Parch','Fare']])"
   ]
  },
  {
   "cell_type": "code",
   "execution_count": 419,
   "id": "937b653d",
   "metadata": {
    "scrolled": true
   },
   "outputs": [
    {
     "name": "stdout",
     "output_type": "stream",
     "text": [
      "[OK] X_train_scaled shape: (712, 7)\n",
      "[OK] y_train shape: (712,)\n"
     ]
    },
    {
     "data": {
      "text/html": [
       "<div>\n",
       "<style scoped>\n",
       "    .dataframe tbody tr th:only-of-type {\n",
       "        vertical-align: middle;\n",
       "    }\n",
       "\n",
       "    .dataframe tbody tr th {\n",
       "        vertical-align: top;\n",
       "    }\n",
       "\n",
       "    .dataframe thead th {\n",
       "        text-align: right;\n",
       "    }\n",
       "</style>\n",
       "<table border=\"1\" class=\"dataframe\">\n",
       "  <thead>\n",
       "    <tr style=\"text-align: right;\">\n",
       "      <th></th>\n",
       "      <th>Pclass</th>\n",
       "      <th>Sex</th>\n",
       "      <th>Age</th>\n",
       "      <th>SibSp</th>\n",
       "      <th>Parch</th>\n",
       "      <th>Fare</th>\n",
       "      <th>Embarked</th>\n",
       "    </tr>\n",
       "  </thead>\n",
       "  <tbody>\n",
       "    <tr>\n",
       "      <th>0</th>\n",
       "      <td>1</td>\n",
       "      <td>0</td>\n",
       "      <td>0.672255</td>\n",
       "      <td>0.125</td>\n",
       "      <td>0.0</td>\n",
       "      <td>0.152766</td>\n",
       "      <td>1</td>\n",
       "    </tr>\n",
       "    <tr>\n",
       "      <th>1</th>\n",
       "      <td>2</td>\n",
       "      <td>0</td>\n",
       "      <td>0.558805</td>\n",
       "      <td>0.000</td>\n",
       "      <td>0.0</td>\n",
       "      <td>0.026350</td>\n",
       "      <td>0</td>\n",
       "    </tr>\n",
       "    <tr>\n",
       "      <th>2</th>\n",
       "      <td>3</td>\n",
       "      <td>1</td>\n",
       "      <td>0.243666</td>\n",
       "      <td>0.000</td>\n",
       "      <td>0.0</td>\n",
       "      <td>0.018543</td>\n",
       "      <td>0</td>\n",
       "    </tr>\n",
       "    <tr>\n",
       "      <th>3</th>\n",
       "      <td>3</td>\n",
       "      <td>1</td>\n",
       "      <td>0.445355</td>\n",
       "      <td>0.000</td>\n",
       "      <td>0.0</td>\n",
       "      <td>0.015412</td>\n",
       "      <td>0</td>\n",
       "    </tr>\n",
       "    <tr>\n",
       "      <th>4</th>\n",
       "      <td>3</td>\n",
       "      <td>1</td>\n",
       "      <td>0.268877</td>\n",
       "      <td>0.000</td>\n",
       "      <td>0.0</td>\n",
       "      <td>0.015713</td>\n",
       "      <td>0</td>\n",
       "    </tr>\n",
       "  </tbody>\n",
       "</table>\n",
       "</div>"
      ],
      "text/plain": [
       "   Pclass  Sex       Age  SibSp  Parch      Fare  Embarked\n",
       "0       1    0  0.672255  0.125    0.0  0.152766         1\n",
       "1       2    0  0.558805  0.000    0.0  0.026350         0\n",
       "2       3    1  0.243666  0.000    0.0  0.018543         0\n",
       "3       3    1  0.445355  0.000    0.0  0.015412         0\n",
       "4       3    1  0.268877  0.000    0.0  0.015713         0"
      ]
     },
     "execution_count": 419,
     "metadata": {},
     "output_type": "execute_result"
    }
   ],
   "source": [
    "X_train_scaled = train_dummies_scaled\n",
    "y_train = df_train[\"Survived\"].map({\"Survived\": 1, \"Not Survived\": 0}).astype(int)\n",
    "\n",
    "\n",
    "print(\"[OK] X_train_scaled shape:\", X_train_scaled.shape)\n",
    "print(\"[OK] y_train shape:\", y_train.shape)\n",
    "X_train_scaled.head()\n"
   ]
  },
  {
   "cell_type": "code",
   "execution_count": 420,
   "id": "678dbf8c-ff53-4b82-80aa-c47c700daab9",
   "metadata": {},
   "outputs": [],
   "source": [
    "def clf_performance(classifier, model_name):\n",
    "    print(model_name)\n",
    "    print('Best Score (F1):', classifier.best_score_)\n",
    "    print('Best Parameters:', classifier.best_params_)"
   ]
  },
  {
   "cell_type": "code",
   "execution_count": 421,
   "id": "cd1151d0-0b4b-441d-965a-77cca0dd894f",
   "metadata": {},
   "outputs": [
    {
     "name": "stdout",
     "output_type": "stream",
     "text": [
      "Fitting 5 folds for each of 120 candidates, totalling 600 fits\n",
      "KNN\n",
      "Best Score (F1): 0.734321940312089\n",
      "Best Parameters: {'algorithm': 'ball_tree', 'metric': 'euclidean', 'n_neighbors': 3, 'p': 1, 'weights': 'uniform'}\n"
     ]
    }
   ],
   "source": [
    "knn = KNeighborsClassifier()\n",
    "param_grid = {\n",
    "    'n_neighbors': [3, 5, 7, 9, 11],\n",
    "    'weights': ['uniform', 'distance'],\n",
    "    'algorithm': ['ball_tree', 'kd_tree'],\n",
    "    'p': [1, 2],\n",
    "    'metric': ['euclidean', 'manhattan', 'minkowski']\n",
    "}\n",
    "\n",
    "# GridSearchCV\n",
    "clf_knn = GridSearchCV(\n",
    "    knn,\n",
    "    param_grid=param_grid,\n",
    "    scoring=make_scorer(f1_score),\n",
    "    cv=5,\n",
    "    verbose=True,\n",
    "    n_jobs=-1\n",
    ")\n",
    "\n",
    "best_clf_knn = clf_knn.fit(X_train_scaled, y_train)\n",
    "clf_performance(best_clf_knn, 'KNN')"
   ]
  },
  {
   "cell_type": "code",
   "execution_count": 422,
   "id": "b8cf9ff9-e406-4c4a-8330-f1f58645c485",
   "metadata": {},
   "outputs": [
    {
     "name": "stdout",
     "output_type": "stream",
     "text": [
      "All Permutations and Results:\n",
      "    param_n_neighbors param_weights param_algorithm param_p param_metric  \\\n",
      "0                   3       uniform       ball_tree       1    euclidean   \n",
      "62                  3       uniform         kd_tree       2    euclidean   \n",
      "2                   3       uniform       ball_tree       2    euclidean   \n",
      "42                  3       uniform       ball_tree       2    minkowski   \n",
      "60                  3       uniform         kd_tree       1    euclidean   \n",
      "102                 3       uniform         kd_tree       2    minkowski   \n",
      "80                  3       uniform         kd_tree       1    manhattan   \n",
      "40                  3       uniform       ball_tree       1    minkowski   \n",
      "82                  3       uniform         kd_tree       2    manhattan   \n",
      "22                  3       uniform       ball_tree       2    manhattan   \n",
      "20                  3       uniform       ball_tree       1    manhattan   \n",
      "100                 3       uniform         kd_tree       1    minkowski   \n",
      "49                  7      distance       ball_tree       1    minkowski   \n",
      "31                  7      distance       ball_tree       2    manhattan   \n",
      "29                  7      distance       ball_tree       1    manhattan   \n",
      "\n",
      "     mean_test_score  std_test_score  rank_test_score  \n",
      "0           0.734322        0.038568                1  \n",
      "62          0.734322        0.038568                1  \n",
      "2           0.734322        0.038568                1  \n",
      "42          0.734322        0.038568                1  \n",
      "60          0.734322        0.038568                1  \n",
      "102         0.734322        0.038568                1  \n",
      "80          0.733101        0.033437                7  \n",
      "40          0.733101        0.033437                7  \n",
      "82          0.733101        0.033437                7  \n",
      "22          0.733101        0.033437                7  \n",
      "20          0.733101        0.033437                7  \n",
      "100         0.733101        0.033437                7  \n",
      "49          0.725612        0.024157               13  \n",
      "31          0.725612        0.024157               13  \n",
      "29          0.725612        0.024157               13  \n"
     ]
    }
   ],
   "source": [
    "\n",
    "results_df = pd.DataFrame(best_clf_knn.cv_results_)\n",
    "\n",
    "columns_to_show = [\n",
    "    'param_n_neighbors',\n",
    "    'param_weights',\n",
    "    'param_algorithm',\n",
    "    'param_p',\n",
    "    'param_metric',\n",
    "    'mean_test_score',\n",
    "    'std_test_score',\n",
    "    'rank_test_score'\n",
    "]\n",
    "\n",
    "permutations_df = results_df[columns_to_show].sort_values('rank_test_score')\n",
    "print(\"All Permutations and Results:\")\n",
    "print(permutations_df.head(15))"
   ]
  },
  {
   "cell_type": "code",
   "execution_count": 423,
   "id": "bc4abf8d",
   "metadata": {},
   "outputs": [
    {
     "name": "stdout",
     "output_type": "stream",
     "text": [
      "F1 scores from 5 folds: [0.68518519 0.76785714 0.69026549 0.75471698 0.77358491]\n",
      "Mean F1: 0.734321940312089\n"
     ]
    }
   ],
   "source": [
    "cv = cross_val_score(\n",
    "    knn_best,\n",
    "    X_train_scaled,\n",
    "    y_train,\n",
    "    scoring=make_scorer(f1_score, greater_is_better=True),\n",
    "    cv=5\n",
    ")\n",
    "\n",
    "print(\"F1 scores from 5 folds:\", cv)\n",
    "print(\"Mean F1:\", cv.mean())"
   ]
  },
  {
   "cell_type": "markdown",
   "id": "67d97f11",
   "metadata": {},
   "source": [
    "## Part 4 - Training \n",
    "Use the best combination of feature engineering, model (algorithm and hyperparameters) from the experiment part (part 3)"
   ]
  },
  {
   "cell_type": "code",
   "execution_count": 424,
   "id": "93713ead",
   "metadata": {},
   "outputs": [],
   "source": [
    "all_dummies = pd.get_dummies(df_train[['Pclass','Sex','Age','SibSp','Parch','Fare','Embarked']])"
   ]
  },
  {
   "cell_type": "code",
   "execution_count": 425,
   "id": "c0fc460d",
   "metadata": {},
   "outputs": [],
   "source": [
    "scale = MinMaxScaler()\n",
    "train_dummies_scaled = all_dummies.copy()\n",
    "train_dummies_scaled[['Age','SibSp','Parch','Fare']] = scale.fit_transform(\n",
    "    train_dummies_scaled[['Age','SibSp','Parch','Fare']]\n",
    ")"
   ]
  },
  {
   "cell_type": "code",
   "execution_count": 426,
   "id": "064ad0a0",
   "metadata": {},
   "outputs": [
    {
     "name": "stdout",
     "output_type": "stream",
     "text": [
      "[INFO] Final shapes: (712, 7) (712,)\n",
      "[INFO] Best KNN model trained successfully!\n"
     ]
    }
   ],
   "source": [
    "X_train_final = train_dummies_scaled\n",
    "y_train_final = df_train[\"Survived\"].map({\"Survived\": 1, \"Not Survived\": 0}).astype(int)\n",
    "\n",
    "print(\"[INFO] Final shapes:\", X_train_final.shape, y_train_final.shape)\n",
    "\n",
    "# 4) Train best model (KNN with best params from CV)\n",
    "knn_best = KNeighborsClassifier(\n",
    "    n_neighbors=3,\n",
    "    algorithm='ball_tree',\n",
    "    metric='euclidean',\n",
    "    p=1,\n",
    "    weights='uniform'\n",
    ")\n",
    "\n",
    "knn_best.fit(X_train_final, y_train_final)\n",
    "print(\"[INFO] Best KNN model trained successfully!\")"
   ]
  },
  {
   "cell_type": "markdown",
   "id": "259ab902",
   "metadata": {},
   "source": [
    "## Part 5 - Apply on test and show model performance estimation"
   ]
  },
  {
   "cell_type": "code",
   "execution_count": 427,
   "id": "d9971aa5",
   "metadata": {
    "scrolled": true
   },
   "outputs": [
    {
     "name": "stdout",
     "output_type": "stream",
     "text": [
      "[OK] X_test_scaled shape: (179, 7)\n",
      "[OK] y_test shape: (179,)\n"
     ]
    }
   ],
   "source": [
    "test_dummies = pd.get_dummies(df_test[['Pclass','Sex','Age','SibSp','Parch','Fare','Embarked']])\n",
    "\n",
    "test_dummies_scaled = test_dummies.copy()\n",
    "test_dummies_scaled[['Age','SibSp','Parch','Fare']] = scale.transform(test_dummies_scaled[['Age','SibSp','Parch','Fare']])\n",
    "\n",
    "X_test_scaled = test_dummies_scaled\n",
    "y_test = df_test['Survived'].astype(int)\n",
    "\n",
    "print(\"[OK] X_test_scaled shape:\", X_test_scaled.shape)\n",
    "print(\"[OK] y_test shape:\", y_test.shape)"
   ]
  },
  {
   "cell_type": "code",
   "execution_count": 428,
   "id": "00d8aa96",
   "metadata": {},
   "outputs": [
    {
     "name": "stdout",
     "output_type": "stream",
     "text": [
      "Accuracy on Test: 0.8212290502793296\n",
      "F1 on Test: 0.7333333333333334\n",
      "\n",
      "Classification Report:\n",
      "               precision    recall  f1-score   support\n",
      "\n",
      "           0       0.86      0.87      0.87       118\n",
      "           1       0.75      0.72      0.73        61\n",
      "\n",
      "    accuracy                           0.82       179\n",
      "   macro avg       0.80      0.80      0.80       179\n",
      "weighted avg       0.82      0.82      0.82       179\n",
      "\n",
      "\n",
      "First 5 predictions vs actual:\n",
      "    True  Predicted\n",
      "0     0          0\n",
      "1     0          0\n",
      "2     0          0\n",
      "3     0          1\n",
      "4     1          1\n"
     ]
    },
    {
     "data": {
      "image/png": "[encoded data removed]",
      "text/plain": [
       "<Figure size 600x500 with 2 Axes>"
      ]
     },
     "metadata": {},
     "output_type": "display_data"
    }
   ],
   "source": [
    "y_pred_test = knn_best.predict(X_test_scaled)\n",
    "\n",
    "\n",
    "print(\"Accuracy on Test:\", accuracy_score(y_test, y_pred_test))\n",
    "print(\"F1 on Test:\", f1_score(y_test, y_pred_test))\n",
    "print(\"\\nClassification Report:\\n\", classification_report(y_test, y_pred_test))\n",
    "\n",
    "comparison_df = pd.DataFrame({\n",
    "    'True': y_test[:5].values,\n",
    "    'Predicted': y_pred_test[:5]\n",
    "})\n",
    "print(\"\\nFirst 5 predictions vs actual:\\n\", comparison_df)\n",
    "\n",
    "cm = confusion_matrix(y_test, y_pred_test)\n",
    "cm_percent = cm.astype('float') / cm.sum(axis=1)[:, np.newaxis] * 100\n",
    "\n",
    "plt.figure(figsize=(6,5))\n",
    "sns.heatmap(\n",
    "    cm_percent, \n",
    "    annot=True, \n",
    "    fmt='.1f', \n",
    "    cmap='Greens',          \n",
    "    linewidths=0.5, \n",
    "    linecolor='gray',\n",
    "    xticklabels=['Not Survived','Survived'],\n",
    "    yticklabels=['Not Survived','Survived'],\n",
    "    vmin=0, vmax=100 \n",
    ")\n",
    "\n",
    "plt.title(\"Confusion Matrix (Percentages)\", fontsize=14, fontweight=\"bold\")\n",
    "plt.xlabel(\"Predicted\", fontsize=12)\n",
    "plt.ylabel(\"Actual\", fontsize=12)\n",
    "plt.show()"
   ]
  }
 ],
 "metadata": {
  "kernelspec": {
   "display_name": "Python 3 (ipykernel)",
   "language": "python",
   "name": "python3"
  },
  "language_info": {
   "codemirror_mode": {
    "name": "ipython",
    "version": 3
   },
   "file_extension": ".py",
   "mimetype": "text/x-python",
   "name": "python",
   "nbconvert_exporter": "python",
   "pygments_lexer": "ipython3",
   "version": "3.7.12"
  },
  "widgets": {
   "application/vnd.jupyter.widget-state+json": {
    "state": {},
    "version_major": 2,
    "version_minor": 0
   }
  }
 },
 "nbformat": 4,
 "nbformat_minor": 5
}
